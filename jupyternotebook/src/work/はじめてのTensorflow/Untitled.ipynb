{
 "cells": [
  {
   "cell_type": "markdown",
   "metadata": {},
   "source": [
    "# Deeplearningの仕組み\n",
    "\n",
    "ディープラーニングはそれまでのニューラルネットワークに比べて多くの中間層を持つことができ、より複雑な問題を解くことができます。よって、ディープニューラルネットワーク（DeepNeuralNetwork：DNN）とも呼びます。ディープラーニングは画像や音声、テキストデータなど次元数が多い非構造化データの扱いが得意です。中間層を増やし、層を深くしていくと、先に説明した計算方法だけでは学習を適切に行うことができません（勾配消失問題）。しかし事前学習を行えば、層を深くしても学習を適切に行うことができます。この事前学習が、ニューラルネットワークからディープラーニングへと進化する契機となりました。"
   ]
  },
  {
   "cell_type": "code",
   "execution_count": null,
   "metadata": {},
   "outputs": [],
   "source": []
  }
 ],
 "metadata": {
  "kernelspec": {
   "display_name": "Python 3",
   "language": "python",
   "name": "python3"
  },
  "language_info": {
   "codemirror_mode": {
    "name": "ipython",
    "version": 3
   },
   "file_extension": ".py",
   "mimetype": "text/x-python",
   "name": "python",
   "nbconvert_exporter": "python",
   "pygments_lexer": "ipython3",
   "version": "3.6.7"
  }
 },
 "nbformat": 4,
 "nbformat_minor": 2
}
