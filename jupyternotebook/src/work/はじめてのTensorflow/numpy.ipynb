{
 "cells": [
  {
   "cell_type": "code",
   "execution_count": 11,
   "metadata": {},
   "outputs": [
    {
     "name": "stdout",
     "output_type": "stream",
     "text": [
      "[[1 2 3]\n",
      " [4 5 6]\n",
      " [7 8 9]]\n",
      "int64\n",
      "9\n",
      "2\n",
      "[[0.5 1.  1.5]\n",
      " [2.  2.5 3. ]\n",
      " [3.5 4.  4.5]]\n",
      "0.5\n",
      "[1 2 3 4 5 6 7 8 9]\n",
      "[0. 0. 0. 0. 0. 0. 0. 0. 0.]\n",
      "[[1, 2, 3], [4, 5, 6], [7, 8, 9]]\n",
      "<class 'list'>\n",
      "[[1 2 3]\n",
      " [4 5 6]\n",
      " [7 8 9]]\n",
      "<class 'numpy.ndarray'>\n"
     ]
    }
   ],
   "source": [
    "# Numpyライブラリの読み込み\n",
    "import numpy as np\n",
    "\n",
    "array = np.array([[1,2,3],[4,5,6],[7,8,9]])\n",
    "print(array)\n",
    "\n",
    "# 要素のデータ型\n",
    "print(array.dtype)\n",
    "\n",
    "#要素数\n",
    "print(array.size)\n",
    "\n",
    "# 次元数\n",
    "print(array.ndim)\n",
    "\n",
    "# 配列の全要素を2で割る\n",
    "div_array = array/2\n",
    "print(div_array)\n",
    "\n",
    "# 一番目の配列の一番目の要素を抽出し、2で割る\n",
    "div_array2 = array[0][0]/2\n",
    "print(div_array2)\n",
    "\n",
    "#配列のフラット化\n",
    "flatten_array = array.flatten()\n",
    "print(flatten_array)\n",
    "\n",
    "# ゼロ配列の生成\n",
    "zero_array = np.zeros(9)\n",
    "print(zero_array)\n",
    "\n",
    "# numpy配列をリストへ変換\n",
    "list = array.tolist()\n",
    "print(list)\n",
    "print(type(list))\n",
    "\n",
    "# リストをnumpy配列へ変換\n",
    "array = np.array(list)\n",
    "print(array)\n",
    "print(type(array))"
   ]
  },
  {
   "cell_type": "code",
   "execution_count": null,
   "metadata": {},
   "outputs": [],
   "source": []
  }
 ],
 "metadata": {
  "kernelspec": {
   "display_name": "Python 3",
   "language": "python",
   "name": "python3"
  },
  "language_info": {
   "codemirror_mode": {
    "name": "ipython",
    "version": 3
   },
   "file_extension": ".py",
   "mimetype": "text/x-python",
   "name": "python",
   "nbconvert_exporter": "python",
   "pygments_lexer": "ipython3",
   "version": "3.6.7"
  }
 },
 "nbformat": 4,
 "nbformat_minor": 2
}
