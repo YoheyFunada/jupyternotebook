{
 "cells": [
  {
   "cell_type": "markdown",
   "metadata": {},
   "source": [
    "# 順伝播\n",
    "\n",
    "「回帰分析」（例えば需要予測など）を使いたいから「恒等写像」を用いたい。"
   ]
  },
  {
   "cell_type": "code",
   "execution_count": null,
   "metadata": {},
   "outputs": [],
   "source": []
  },
  {
   "cell_type": "markdown",
   "metadata": {},
   "source": [
    "# 逆伝播\n",
    "\n",
    "誤差関数を用いて誤差を求める。誤差とは、真の値（ここでは正確なデータ）と測定値（ここでは出力層で得られた結果）の差。\n",
    "学習のタイプが回帰ならば二条誤差を用いる。\n"
   ]
  },
  {
   "cell_type": "markdown",
   "metadata": {},
   "source": [
    "そして、その誤差が小さくなるように（出力層で得られる結果が正解データへ近付くように）、エッジの重みを徐々に更新していきます。\n",
    "\n",
    "足立悠. 初めてのTensorFlow──数式なしのディープラーニング (Japanese Edition) (Kindle の位置No.835-836). Kindle 版. "
   ]
  },
  {
   "cell_type": "code",
   "execution_count": null,
   "metadata": {},
   "outputs": [],
   "source": []
  },
  {
   "cell_type": "markdown",
   "metadata": {},
   "source": [
    "<img src=\"chart1.png\">"
   ]
  },
  {
   "cell_type": "markdown",
   "metadata": {},
   "source": [
    "ここで、底は誤差の最小値（最適な重みの値）、ボールの位置（高さ）は重みと誤差の値、ボールの速度は学習係数にあたります。誤差を最小にするために、誤差が減少する方向へと重みを更新していくこの手法を「勾配降下法」と呼びます。学習係数の値が小さすぎても、大きすぎても、学習回数が多くなり時間がかかってしまうので、最適な学習係数を選びたいところです。一般に学習係数は0.0001～0.1の間で設定するとよいとされています。"
   ]
  },
  {
   "cell_type": "markdown",
   "metadata": {},
   "source": [
    "<img src=\"chart2.png\">"
   ]
  },
  {
   "cell_type": "markdown",
   "metadata": {},
   "source": [
    "図36の誤差の曲線（損失関数）の形状は、誤差の最小値（最適な重みの値）を見つけやすいものでした。しかし現実の形状はもっと複雑です。誤差の最小値が存在するにもかかわらず（図37のA点）、誤った位置を最小値と勘違いしてしまう場合が少なくありません（図37のB点）。この位置を局所最適点と呼びます。"
   ]
  },
  {
   "cell_type": "markdown",
   "metadata": {},
   "source": [
    "<img src='chart3.png'>"
   ]
  },
  {
   "cell_type": "markdown",
   "metadata": {},
   "source": [
    "<img src=\"chart4.png\">"
   ]
  },
  {
   "cell_type": "code",
   "execution_count": null,
   "metadata": {},
   "outputs": [],
   "source": []
  }
 ],
 "metadata": {
  "kernelspec": {
   "display_name": "Python 3",
   "language": "python",
   "name": "python3"
  },
  "language_info": {
   "codemirror_mode": {
    "name": "ipython",
    "version": 3
   },
   "file_extension": ".py",
   "mimetype": "text/x-python",
   "name": "python",
   "nbconvert_exporter": "python",
   "pygments_lexer": "ipython3",
   "version": "3.6.7"
  }
 },
 "nbformat": 4,
 "nbformat_minor": 2
}
