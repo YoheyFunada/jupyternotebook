{
 "cells": [
  {
   "cell_type": "code",
   "execution_count": 2,
   "metadata": {},
   "outputs": [
    {
     "name": "stdout",
     "output_type": "stream",
     "text": [
      "Counter({'a': 3, 'c': 2, 'b': 1})\n",
      "a 3\n",
      "c 2\n",
      "b 1\n"
     ]
    }
   ],
   "source": [
    "# Counterクラスの読み込み\n",
    "from collections import Counter\n",
    "\n",
    "list = ['a','b','c','a','a','c']\n",
    "\n",
    "counter = Counter(list)\n",
    "print(counter)\n",
    "\n",
    "for elem, cnt in counter.most_common():\n",
    "    print(elem,cnt)"
   ]
  },
  {
   "cell_type": "code",
   "execution_count": null,
   "metadata": {},
   "outputs": [],
   "source": []
  }
 ],
 "metadata": {
  "kernelspec": {
   "display_name": "Python 3",
   "language": "python",
   "name": "python3"
  },
  "language_info": {
   "codemirror_mode": {
    "name": "ipython",
    "version": 3
   },
   "file_extension": ".py",
   "mimetype": "text/x-python",
   "name": "python",
   "nbconvert_exporter": "python",
   "pygments_lexer": "ipython3",
   "version": "3.6.7"
  }
 },
 "nbformat": 4,
 "nbformat_minor": 2
}
