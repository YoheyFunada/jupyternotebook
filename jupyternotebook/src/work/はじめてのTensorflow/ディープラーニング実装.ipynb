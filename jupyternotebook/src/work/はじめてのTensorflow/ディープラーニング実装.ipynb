{
 "cells": [
  {
   "cell_type": "markdown",
   "metadata": {},
   "source": [
    "# ディープラーニング実装"
   ]
  },
  {
   "cell_type": "markdown",
   "metadata": {},
   "source": [
    "<img src='list.png'>"
   ]
  },
  {
   "cell_type": "markdown",
   "metadata": {},
   "source": [
    "手書き文字画像のMNISTデータセットを対象にして、実際にディープラーニングを実装。"
   ]
  },
  {
   "cell_type": "code",
   "execution_count": 1,
   "metadata": {},
   "outputs": [
    {
     "name": "stdout",
     "output_type": "stream",
     "text": [
      "Training Step: 9899  | total loss: \u001b[1m\u001b[32m0.58736\u001b[0m\u001b[0m | time: 2.696s\n",
      "| SGD | epoch: 020 | loss: 0.58736 - acc: 0.9247 -- iter: 49400/49500\n",
      "Training Step: 9900  | total loss: \u001b[1m\u001b[32m0.54732\u001b[0m\u001b[0m | time: 3.751s\n",
      "| SGD | epoch: 020 | loss: 0.54732 - acc: 0.9252 | val_loss: 0.10194 - val_acc: 0.9722 -- iter: 49500/49500\n",
      "--\n",
      "[7 2 1 ... 4 5 6]\n",
      "[7 2 1 ... 4 5 6]\n",
      "0.9739\n"
     ]
    }
   ],
   "source": [
    "## ライブラリの読み込み\n",
    "#  Tensorflow ライブラリ\n",
    "import tensorflow as tf\n",
    "# tflearnライブラリ\n",
    "import tflearn\n",
    "\n",
    "# MNISTデータセットを扱うためのライブラリ\n",
    "import tflearn.datasets.mnist as mnist\n",
    "\n",
    "#MNIST画像を表示するためのライブラリ\n",
    "from matplotlib import pyplot as plt\n",
    "from matplotlib import cm\n",
    "import numpy as np\n",
    "\n",
    "# MNISTデータを./data/mnistへダウンロードし、解凍して各変数へ格納\n",
    "trainX, trainY, testX, testY = mnist.load_data('./data/mnist/', one_hot=True)\n",
    "\n",
    "## データの確認\n",
    "# 学習用の画像ピクセルデータと正解データのサイズを確認\n",
    "print('テスト用データ')\n",
    "print(len(trainX),len(trainY))\n",
    "\n",
    "# テスト用の画像ピクセルデータと正解データのサイズを確認\n",
    "print('テスト用データ')\n",
    "print(len(testX),len(testY))\n",
    "\n",
    "#学習用の画像ピクセルデータを確認\n",
    "print('学習用データ')\n",
    "print(len(trainX))\n",
    "\n",
    "#学習用の正解データを確認\n",
    "print('学習用正解データ')\n",
    "print(trainY)\n",
    "\n",
    "#test用の画像ピクセルデータを確認\n",
    "print('test用データ')\n",
    "print(testX)\n",
    "\n",
    "#test用の正解データを確認\n",
    "print('test用正解データ')\n",
    "print(testY)\n",
    "\n",
    "#学習用の画像ピクセルデータを確認\n",
    "# trainX[0]\n",
    "\n",
    "# 学習用の画像データを確認（１枚目）\n",
    "plt.imshow(trainX[0].reshape(28,28),cmap=cm.gray_r,interpolation='nearest')\n",
    "plt.show\n",
    "\n",
    "#　学習用の正解データを確認（１枚目）\n",
    "trainY[0]\n",
    "\n",
    "## ニューラルネットワークの作成\n",
    "## 初期化\n",
    "\n",
    "tf.reset_default_graph()\n",
    "\n",
    "## 入力層の作成\n",
    "net = tflearn.input_data(shape=[None, 784])\n",
    "\n",
    "## 中間層の作成\n",
    "net = tflearn.fully_connected(net, 128, activation='relu')\n",
    "net = tflearn.dropout(net, 0.5)\n",
    "\n",
    "## 出力層の作成\n",
    "net = tflearn.fully_connected(net, 10, activation='softmax')\n",
    "net = tflearn.regression(net, optimizer='sgd', learning_rate=0.5, loss='categorical_crossentropy')\n",
    "\n",
    "## モデルの作成（学習）\n",
    "# 学習の実行\n",
    "\n",
    "# DNN関数を使って、作成したニューラルネットワークと学習条件をセットします。\n",
    "# ●1番目の引数：セットする対象のニューラルネットワークを設定します。ここでは、netにあたります。\n",
    "model = tflearn.DNN(net)\n",
    "\n",
    "# fit関数を使って、学習を実行しモデルを作成します。\n",
    "#1番目の引数：学習データを設定します。ここでは、学習用の画像ピクセルデータを格納した配列trainXです。\n",
    "#2番目の引数：正解データを設定します。ここでは、学習用の画像正解データを格納した配列trainYです。\n",
    "#3番目の引数：エポック数（≒学習回数）を設定します。ここでは、20とします。\n",
    "#4番目の引数：バッチサイズを設定します。ここでは100とします。\n",
    "#5番目の引数：モデルの精度を検証するためのテストデータセットを設定します。ここでは、学習用データセットのうちの1割（0.1）とします。\n",
    "#6番目の引数：学習のステップごとに精度を表示するかどうかを設定します。ここでは、True（表示する）とします。\n",
    "model.fit(trainX, trainY, n_epoch=20, batch_size=100, validation_set=0.1, show_metric=True)\n",
    "\n",
    "## モデルの適用（予測） ##\n",
    "\n",
    "#作成したモデルを、テスト用データのピクセル値を格納した配列testXに適用します。出力結果（数字0～9のいずれか）を変数predに格納して、画面に表示します。\n",
    "pred = np.array(model.predict(testX)).argmax(axis=1)\n",
    "print(pred)\n",
    "\n",
    "#テスト用データの正解の値を格納した配列testY（数字0～9のいずれか）を、変数labelに格納して画面に出力します。\n",
    "label = testY.argmax(axis = 1)\n",
    "print(label)\n",
    "\n",
    "# 出力結果を格納した変数predの値と、正解の値を格納した変数labelの値が、どの程度一致しているか、値の平均をとって予測精度とします。\n",
    "accuracy = np.mean(pred == label, axis = 0)\n",
    "print(accuracy)"
   ]
  },
  {
   "cell_type": "code",
   "execution_count": null,
   "metadata": {},
   "outputs": [],
   "source": []
  }
 ],
 "metadata": {
  "kernelspec": {
   "display_name": "Python 3",
   "language": "python",
   "name": "python3"
  },
  "language_info": {
   "codemirror_mode": {
    "name": "ipython",
    "version": 3
   },
   "file_extension": ".py",
   "mimetype": "text/x-python",
   "name": "python",
   "nbconvert_exporter": "python",
   "pygments_lexer": "ipython3",
   "version": "3.6.7"
  }
 },
 "nbformat": 4,
 "nbformat_minor": 2
}
