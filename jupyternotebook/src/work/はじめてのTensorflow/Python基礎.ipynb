{
 "cells": [
  {
   "cell_type": "code",
   "execution_count": 1,
   "metadata": {},
   "outputs": [
    {
     "name": "stdout",
     "output_type": "stream",
     "text": [
      "[1, 2, 3, 4, 5]\n"
     ]
    }
   ],
   "source": [
    "list = [1,2,3,4,5]\n",
    "print(list)"
   ]
  },
  {
   "cell_type": "code",
   "execution_count": 4,
   "metadata": {},
   "outputs": [
    {
     "name": "stdout",
     "output_type": "stream",
     "text": [
      "1\n",
      "5\n"
     ]
    }
   ],
   "source": [
    "list = [1,2,3,4,5]\n",
    "print(list[0])\n",
    "\n",
    "print(len(list))"
   ]
  },
  {
   "cell_type": "code",
   "execution_count": 10,
   "metadata": {},
   "outputs": [
    {
     "name": "stdout",
     "output_type": "stream",
     "text": [
      "5\n",
      "a\n"
     ]
    }
   ],
   "source": [
    "list = [1,[\"a\",\"b\"],3,4,5]\n",
    "print(len(list))\n",
    "print(list[1][0])"
   ]
  },
  {
   "cell_type": "code",
   "execution_count": 12,
   "metadata": {},
   "outputs": [
    {
     "name": "stdout",
     "output_type": "stream",
     "text": [
      "num2はnum1より大きい\n"
     ]
    }
   ],
   "source": [
    "num1 = 1\n",
    "num2 = 2\n",
    "\n",
    "if num1 == num2:\n",
    "    print('no')\n",
    "elif num1 < num2:\n",
    "    print(\"num2はnum1より大きい\")\n",
    "else:\n",
    "    print(\"それ以外\")"
   ]
  },
  {
   "cell_type": "code",
   "execution_count": 14,
   "metadata": {},
   "outputs": [
    {
     "name": "stdout",
     "output_type": "stream",
     "text": [
      "str1 = Python\n",
      "str2 = ようこそPythonの世界へ\n",
      "文字列に「Python」を含む\n"
     ]
    }
   ],
   "source": [
    "str1 = 'Python'\n",
    "str2 = 'ようこそPythonの世界へ'\n",
    "\n",
    "print('str1' + ' = ' + str1)\n",
    "print('str2' + ' = ' + str2)\n",
    "\n",
    "if str1 in str2:\n",
    "    print('文字列に「Python」を含む')\n",
    "else:\n",
    "    print('もじれつｎに「Python」を含まない')"
   ]
  },
  {
   "cell_type": "code",
   "execution_count": 18,
   "metadata": {},
   "outputs": [
    {
     "name": "stdout",
     "output_type": "stream",
     "text": [
      "[1, 2, 3]\n",
      "[4, 5]\n",
      "[6]\n"
     ]
    }
   ],
   "source": [
    "list = [[1,2,3],[4,5],[6]]\n",
    "\n",
    "# 配列から一要素づつ抽出して表示\n",
    "for row in list:\n",
    "    print(row)"
   ]
  },
  {
   "cell_type": "code",
   "execution_count": 17,
   "metadata": {},
   "outputs": [
    {
     "name": "stdout",
     "output_type": "stream",
     "text": [
      "[1, 2, 3]\n",
      "[4, 5]\n",
      "[6]\n"
     ]
    }
   ],
   "source": [
    "list = [[1,2,3],[4,5],[6]]\n",
    "\n",
    "#配列から一要素づつ抽出して表示\n",
    "i = 0\n",
    "while i < len(list):\n",
    "    print(list[i])\n",
    "    i = i + 1"
   ]
  },
  {
   "cell_type": "code",
   "execution_count": 19,
   "metadata": {},
   "outputs": [
    {
     "name": "stdout",
     "output_type": "stream",
     "text": [
      "0 [1, 2, 3]\n",
      "1 [4, 5]\n",
      "2 [6]\n"
     ]
    }
   ],
   "source": [
    "list = [[1,2,3],[4,5],[6]]\n",
    "\n",
    "# インデックス付きで配列から1要素づつ抽出して表示\n",
    "for (i,d) in enumerate(list):\n",
    "    print(i,d)"
   ]
  },
  {
   "cell_type": "code",
   "execution_count": 20,
   "metadata": {},
   "outputs": [
    {
     "name": "stdout",
     "output_type": "stream",
     "text": [
      "3\n"
     ]
    }
   ],
   "source": [
    "# 関数の定義\n",
    "def func(x,y):\n",
    "    z = x + y\n",
    "    return z\n",
    "\n",
    "#関数の呼び出し\n",
    "num1 = 1\n",
    "num2 = 2\n",
    "\n",
    "num3 = func(num1,num2)\n",
    "print(num3)"
   ]
  },
  {
   "cell_type": "code",
   "execution_count": null,
   "metadata": {},
   "outputs": [],
   "source": []
  }
 ],
 "metadata": {
  "kernelspec": {
   "display_name": "Python 3",
   "language": "python",
   "name": "python3"
  },
  "language_info": {
   "codemirror_mode": {
    "name": "ipython",
    "version": 3
   },
   "file_extension": ".py",
   "mimetype": "text/x-python",
   "name": "python",
   "nbconvert_exporter": "python",
   "pygments_lexer": "ipython3",
   "version": "3.6.7"
  }
 },
 "nbformat": 4,
 "nbformat_minor": 2
}
