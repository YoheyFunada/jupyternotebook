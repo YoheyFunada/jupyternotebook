{
 "cells": [
  {
   "cell_type": "markdown",
   "metadata": {
    "lines_to_next_cell": 2
   },
   "source": [
    "Pillowの基本的な使い方に慣れてきたところで、一般的な画像に対する分類問題を解いてみましょう。 画像データを学習に使用できるよう、入力層へ渡せる形式へ変換した後、4.2節と同じくCNNを実装し画像を分類してみます。"
   ]
  },
  {
   "cell_type": "code",
   "execution_count": 7,
   "metadata": {},
   "outputs": [],
   "source": [
    "import tensorflow as tf\n",
    "import tflearn\n",
    "\n",
    "#層の作成、学習に必要なライブラリの読み込み\n",
    "from tflearn.layers.core import input_data,dropout,fully_connected\n",
    "from tflearn.layers.conv import conv_2d, max_pool_2d\n",
    "from tflearn.layers.normalization import local_response_normalization\n",
    "from tflearn.layers.estimator import regression\n",
    "\n",
    "import os\n",
    "import numpy as np\n",
    "from PIL import Image\n",
    "\n",
    "## 画像データの処理\n",
    "\n",
    "# 学習用の画像ファイルを格納しているディレクトリ\n",
    "train_dirs = ['pos','neg']\n",
    "\n",
    "# 学習データを格納する配列の準備\n",
    "trainX = [] #画像ピクセル値\n",
    "trainY = [] #正解データ\n",
    "\n",
    "for i,d in enumerate(train_dirs):\n",
    "    #ファイル名の取得\n",
    "    files = os.listdir('./data/pict/' + d)\n",
    "    for f in files:\n",
    "        #画像読み込み\n",
    "        image = Image.open('./data/pict/' + d + '/' + f, 'r')\n",
    "        #グレースケールへ変換\n",
    "        gray_image = image.convert('L')\n",
    "        # 画像ファイルをピクセル値へ変換\n",
    "        gray_image_px = np.array(gray_image)\n",
    "        gray_image_flatten = gray_image_px.flatten().astype(np.float32)/255.0\n",
    "        trainX.append(gray_image_flatten)\n",
    "        \n",
    "        # 正解データをone_hot形式へ変換\n",
    "        tmp = np.zeros(2)\n",
    "        tmp[i] = 1\n",
    "        trainY.append(tmp)\n",
    "\n",
    "# numpy配列に変換\n",
    "trainX = np.asarray(trainX)\n",
    "trainY = np.asarray(trainY)"
   ]
  },
  {
   "cell_type": "code",
   "execution_count": null,
   "metadata": {},
   "outputs": [],
   "source": [
    "#1枚目の画像ピクセルデータを表示\n",
    "print(trainX[0])\n",
    "print(trainY[0])"
   ]
  },
  {
   "cell_type": "code",
   "execution_count": null,
   "metadata": {},
   "outputs": [],
   "source": [
    "# 1枚目の画像ピクセル値と正解データの長さを表示\n",
    "print(len(trainX[0]))\n",
    "print(len(trainY[0]))"
   ]
  },
  {
   "cell_type": "markdown",
   "metadata": {},
   "source": [
    "1枚目の画像ピクセルデータは、サイズが1024（32×32×1）の1次元配列に格納されており、正解データはサイズが2（posとnegの2値）の1次元配列に格納されていることが分かります。"
   ]
  },
  {
   "cell_type": "code",
   "execution_count": null,
   "metadata": {},
   "outputs": [],
   "source": [
    "#画像ピクセルデータを1次元から2次元へ変換\n",
    "#CNNを使って学習するために、学習（入力）データは2次元でなければなりません。\n",
    "trainX = trainX.reshape([-1,32,32,1])\n",
    "#1枚目の画像ピクセル値を表示\n",
    "trainX[0]"
   ]
  },
  {
   "cell_type": "code",
   "execution_count": null,
   "metadata": {},
   "outputs": [],
   "source": [
    "#1枚目のサイズ\n",
    "print(len(trainX[0]))"
   ]
  },
  {
   "cell_type": "markdown",
   "metadata": {},
   "source": [
    "ここでは、入力層が32×32ノード、中間層は畳み込み層、プーリング層が2層ずつ、全結合層が1層、出力層が2ノード（posとnegの2種類）から成るCNNを構築し、\n",
    "モデルの分類精度を確かめます。畳み込み層で使用するフィルタのサイズは5とし、プーリング層の領域のサイズは2とします。また、全結合層のノード数を128とします。"
   ]
  },
  {
   "cell_type": "code",
   "execution_count": null,
   "metadata": {},
   "outputs": [],
   "source": [
    "# ニューラルネットワークの作成\n",
    "\n",
    "## 初期化\n",
    "tf.reset_default_graph()\n",
    "\n",
    "## 入力層の作成\n",
    "# input_data関数を使って入力層を作成します。\n",
    "# 1番目の引数shapeには、入力する学習データの形状として、バッチサイズとノード数を設定します。\n",
    "# ここでは、None（ここでは指定しない）と、32×32（画像1枚あたりのピクセル数）、1（グレースケール画像）とします。\n",
    "net = input_data(shape=[None, 32, 32, 1])\n",
    "\n",
    "## 中間層の作成\n",
    "# 畳み込み層の作成\n",
    "#●1番目の引数：作成する層の1つ前の層（結合の対象となる層）を設定します。ここでは、netにあたります。\n",
    "#●2番目の引数：畳み込みフィルタ数（出力次元数）を設定します。ここでは、1番目の畳み込み層では32とします。\n",
    "#●3番目の引数：フィルタのサイズを設定します。ここでは、5×5とします。\n",
    "#●4番目の引数：使用する活性化関数を設定します。ここでは、relu（ReLU関数）を使用します。\n",
    "#●また、引数として明示的に設定していませんが、ゼロパディングを行ってサイズを保持しています。同様に、フィルタは1ずつスライドします。\n",
    "net = conv_2d(net, 32, 5, activation='relu')\n",
    "\n",
    "# プーリング層の作成\n",
    "# ●1番目の引数：作成する層の1つ前の層を設定します。ここでは、netにあたります。\n",
    "# ●2番目の引数：最大プーリングを行う領域を設定します。ここでは、2×2とします。\n",
    "net = max_pool_2d(net, 2)\n",
    "\n",
    "# 畳み込み層の作成\n",
    "# ●1番目の引数：作成する層の1つ前の層（結合の対象となる層）を設定します。ここでは、netにあたります。\n",
    "# ●2番目の引数：畳み込みフィルタ数（出力次元数）を設定します。ここでは、1つ目の畳み込み層では64とします。\n",
    "#●3番目の引数：フィルタのサイズを設定します。ここでは、5×5とします。\n",
    "#●4番目の引数：使用する活性化関数を設定します。ここでは、relu（ReLU関数）を使用します。\n",
    "#●また、引数として明示的に設定していませんが、ゼロパディングを行ってサイズを保持しています。同様に、フィルタは1ずつスライドします。\n",
    "net = conv_2d(net, 64, 5, activation='relu')\n",
    "\n",
    "# プーリング層の作成\n",
    "# ●1番目の引数：作成する層の1つ前の層を設定します。ここでは、netにあたります。\n",
    "# ●2番目の引数：最大プーリングを行う領域を設定します。ここでは、2×2とします。\n",
    "# 入力層における32×32×1サイズのデータは、1層目の畳み込み層で32×32×32サイズとなり、1層目のプーリング層で16×16×32サイズとなり、2層目の畳み込み層で16×16×64サイズとなり、2層目のプーリング層で8×8×64サイズとなります。\n",
    "nat = max_pool_2d(net, 2)\n",
    "\n",
    "# 全結合層の作成\n",
    "# ●1番目の引数：作成する層の1つ前の層（結合の対象となる層）を設定します。ここでは、netにあたります。\n",
    "# ●2番目の引数：作成する層のノード数を設定します。ここでは、128とします。\n",
    "# ●3番目の引数：使用する活性化関数を設定します。ここでは、relu（ReLU関数）とします。\n",
    "net = fully_connected(net, 128, activation='relu')\n",
    "\n",
    "#dropout関数を使って、作成した層に対しドロップアウトを行います。\n",
    "#●1番目の引数：ドロップアウトの対象とする層を設定します。ここでは、netにあたります。\n",
    "#●2番目の引数：対象となる層の全ノードのうち何割を残しておくか、その比率を設定します。ここでは、0.5とします。\n",
    "net = dropout(net, 0.5)\n",
    "\n",
    "## 出力層の作成\n",
    "# ●1番目の引数：作成する層の1つ前の層（結合の対象となる層）を設定します。ここでは、netにあたります。\n",
    "# ●2番目の引数：作成する層のノード数を設定します。ここでは、2とします（posとnegの2種類あるため）。\n",
    "# ●3番目の引数：作成する層で使用する活性化関数を設定します。ここでは、softmax（ソフトマックス関数）を使用します。\n",
    "net = tflearn.fully_connected(net, 2, activation='softmax')\n",
    "\n",
    "# regression関数を使って、学習の条件を設定します。\n",
    "# ●1番目の引数：学習の対象となる層を設定します。ここでは、これまで作成してきた層であるnetにあたります。\n",
    "# ●2番目の引数：最適化の手法を設定します。ここでは、sgd（確率的勾配降下法）を使用します。\n",
    "# ●3番目の引数：学習係数の減衰係数を設定します。ここでは、0.5とします。\n",
    "# ●4番目の引数：誤差関数を設定します。ここでは、categorical_crossentropy（交差エントロピー）を使用します。\n",
    "net = tflearn.regression(net, optimizer='sgd', learning_rate=0.5, loss='categorical_crossentropy')"
   ]
  }
 ],
 "metadata": {
  "jupytext": {
   "text_representation": {
    "extension": ".py",
    "format_name": "light",
    "format_version": "1.4",
    "jupytext_version": "1.1.1"
   }
  },
  "kernelspec": {
   "display_name": "Python 3",
   "language": "python",
   "name": "python3"
  },
  "language_info": {
   "codemirror_mode": {
    "name": "ipython",
    "version": 3
   },
   "file_extension": ".py",
   "mimetype": "text/x-python",
   "name": "python",
   "nbconvert_exporter": "python",
   "pygments_lexer": "ipython3",
   "version": "3.6.7"
  }
 },
 "nbformat": 4,
 "nbformat_minor": 2
}
