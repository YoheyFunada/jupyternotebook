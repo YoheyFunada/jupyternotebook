{
 "cells": [
  {
   "cell_type": "code",
   "execution_count": 10,
   "metadata": {},
   "outputs": [
    {
     "name": "stdout",
     "output_type": "stream",
     "text": [
      "3\n"
     ]
    }
   ],
   "source": [
    "import tensorflow as tf\n",
    "\n",
    "# 入力となる定数の定義\n",
    "x = tf.constant(1, name=\"x\")\n",
    "y = tf.constant(2, name=\"y\")\n",
    "\n",
    "add_op = tf.add(x, y)\n",
    "\n",
    "with tf.Session() as sess:\n",
    "    print(sess.run(add_op))"
   ]
  },
  {
   "cell_type": "markdown",
   "metadata": {},
   "source": [
    "# tensorflow test"
   ]
  },
  {
   "cell_type": "code",
   "execution_count": 1,
   "metadata": {},
   "outputs": [
    {
     "name": "stdout",
     "output_type": "stream",
     "text": [
      "1\n",
      "2\n",
      "3\n"
     ]
    }
   ],
   "source": [
    "import tensorflow as tf\n",
    "\n",
    "# cntという変数（カウンター）の定義\n",
    "cnt = tf.Variable(0, name=\"cnt\")\n",
    "inc = tf.constant(1, name=\"inc\")\n",
    "\n",
    "# カウントアップ\n",
    "add_op = tf.add(cnt, inc)\n",
    "\n",
    "# cntの値を更新\n",
    "up_op = tf.assign(cnt, add_op)\n",
    "\n",
    "with tf.Session() as sess:\n",
    "    # 変数を使う場合はまず初期化が必要\n",
    "    sess.run(tf.global_variables_initializer())\n",
    "\n",
    "    # カウントアップを計3回実行\n",
    "    print(sess.run(up_op))\n",
    "    print(sess.run(up_op))\n",
    "    print(sess.run(up_op))"
   ]
  },
  {
   "cell_type": "code",
   "execution_count": null,
   "metadata": {},
   "outputs": [],
   "source": []
  },
  {
   "cell_type": "code",
   "execution_count": null,
   "metadata": {},
   "outputs": [],
   "source": []
  }
 ],
 "metadata": {
  "kernelspec": {
   "display_name": "Python 3",
   "language": "python",
   "name": "python3"
  },
  "language_info": {
   "codemirror_mode": {
    "name": "ipython",
    "version": 3
   },
   "file_extension": ".py",
   "mimetype": "text/x-python",
   "name": "python",
   "nbconvert_exporter": "python",
   "pygments_lexer": "ipython3",
   "version": "3.6.7"
  }
 },
 "nbformat": 4,
 "nbformat_minor": 2
}
